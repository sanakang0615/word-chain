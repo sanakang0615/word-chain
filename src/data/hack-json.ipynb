{
 "cells": [
  {
   "cell_type": "code",
   "execution_count": 2,
   "metadata": {},
   "outputs": [],
   "source": [
    "import csv\n",
    "import json\n",
    "\n",
    "csv_file_path = './hack.csv'\n",
    "json_file_path = './wordList.json'\n",
    "\n",
    "data = []\n",
    "\n",
    "with open(csv_file_path, mode='r', encoding='utf-8') as csv_file:\n",
    "    csv_reader = csv.DictReader(csv_file)\n",
    "    for row in csv_reader:\n",
    "        data.append(row)\n",
    "\n",
    "with open(json_file_path, mode='w', encoding='utf-8') as json_file:\n",
    "    json.dump(data, json_file, ensure_ascii=False, indent=2)\n"
   ]
  },
  {
   "cell_type": "code",
   "execution_count": 3,
   "metadata": {},
   "outputs": [],
   "source": [
    "import json \n",
    "with open('./wordList.json', mode='r', encoding='utf-8') as json_file:\n",
    "    word_list = json.load(json_file)\n"
   ]
  },
  {
   "cell_type": "code",
   "execution_count": 4,
   "metadata": {},
   "outputs": [
    {
     "name": "stdout",
     "output_type": "stream",
     "text": [
      "['(be) attributed to', 'detract ↓', 'pugnacious \\n퍽!', 'restive <조심>', 'tantamount (to)', 'ad hoc', 'aped bape', 'archetypical (=archetypal)', 'ascribe A to B', 'attest to', 'attest to', 'bereft of', 'by no means', 'clear out', 'clear out', 'comity (courtesy)', 'conducive (to v)', 'contingent upon', 'convey ideas', 'disinclined to', 'dispense with', 'give way to', 'haggle about', 'hew to', 'in retrospect', 'jibe with', 'keep ~ at bay', 'make known', 'not fail to~V', 'on a par with~', 'pine (for)', 'pretext (for)', 'pull no punches', 'refrain (from)', 'resign to', 'revert to', 'ring out', 'sanctimonious <조심>', 'She is by no means an inexperienced teacher. Not by any manner of means.', 'sifted from', 'stem from', 'take on']\n"
     ]
    }
   ],
   "source": [
    "filtered_terms = [word['term'] for word in word_list if '(' in word['term'] or ' ' in word['term']]\n",
    "print(filtered_terms)\n"
   ]
  }
 ],
 "metadata": {
  "kernelspec": {
   "display_name": "Python 3",
   "language": "python",
   "name": "python3"
  },
  "language_info": {
   "codemirror_mode": {
    "name": "ipython",
    "version": 3
   },
   "file_extension": ".py",
   "mimetype": "text/x-python",
   "name": "python",
   "nbconvert_exporter": "python",
   "pygments_lexer": "ipython3",
   "version": "3.9.6"
  }
 },
 "nbformat": 4,
 "nbformat_minor": 2
}
